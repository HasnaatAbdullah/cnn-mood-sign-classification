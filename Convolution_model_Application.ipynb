{
 "cells": [
  {
   "cell_type": "markdown",
   "metadata": {},
   "source": [
    "# Convolutional Neural Networks: Application\n",
    "\n"
   ]
  },
  {
   "cell_type": "markdown",
   "metadata": {},
   "source": [
    "<a name='1'></a>\n",
    "## 1 - Packages\n",
    "\n",
    "As usual, begin by loading in the packages."
   ]
  },
  {
   "cell_type": "code",
   "execution_count": 9,
   "metadata": {
    "deletable": false,
    "editable": false
   },
   "outputs": [],
   "source": [
    "### v1.1"
   ]
  },
  {
   "cell_type": "code",
   "execution_count": 10,
   "metadata": {},
   "outputs": [],
   "source": [
    "import math\n",
    "import numpy as np\n",
    "import h5py\n",
    "import matplotlib.pyplot as plt\n",
    "from matplotlib.pyplot import imread\n",
    "import scipy\n",
    "from PIL import Image\n",
    "import pandas as pd\n",
    "import tensorflow as tf\n",
    "import tensorflow.keras.layers as tfl\n",
    "from tensorflow.python.framework import ops\n",
    "from cnn_utils import *\n",
    "from test_utils import summary, comparator\n",
    "\n",
    "%matplotlib inline\n",
    "np.random.seed(1)"
   ]
  },
  {
   "cell_type": "markdown",
   "metadata": {},
   "source": [
    "<a name='1-1'></a>\n",
    "### 1.1 - Load the Data and Split the Data into Train/Test Sets\n",
    "\n",
    "You'll be using the Happy House dataset for this part of the assignment, which contains images of peoples' faces. Your task will be to build a ConvNet that determines whether the people in the images are smiling or not -- because they only get to enter the house if they're smiling!  "
   ]
  },
  {
   "cell_type": "code",
   "execution_count": 11,
   "metadata": {},
   "outputs": [
    {
     "name": "stdout",
     "output_type": "stream",
     "text": [
      "number of training examples = 600\n",
      "number of test examples = 150\n",
      "X_train shape: (600, 64, 64, 3)\n",
      "Y_train shape: (600, 1)\n",
      "X_test shape: (150, 64, 64, 3)\n",
      "Y_test shape: (150, 1)\n"
     ]
    }
   ],
   "source": [
    "X_train_orig, Y_train_orig, X_test_orig, Y_test_orig, classes = load_happy_dataset()\n",
    "\n",
    "# Normalize image vectors\n",
    "X_train = X_train_orig/255.\n",
    "X_test = X_test_orig/255.\n",
    "\n",
    "# Reshape\n",
    "Y_train = Y_train_orig.T\n",
    "Y_test = Y_test_orig.T\n",
    "\n",
    "print (\"number of training examples = \" + str(X_train.shape[0]))\n",
    "print (\"number of test examples = \" + str(X_test.shape[0]))\n",
    "print (\"X_train shape: \" + str(X_train.shape))\n",
    "print (\"Y_train shape: \" + str(Y_train.shape))\n",
    "print (\"X_test shape: \" + str(X_test.shape))\n",
    "print (\"Y_test shape: \" + str(Y_test.shape))"
   ]
  },
  {
   "cell_type": "markdown",
   "metadata": {},
   "source": [
    "You can display the images contained in the dataset. Images are **64x64** pixels in RGB format (3 channels)."
   ]
  },
  {
   "cell_type": "code",
   "execution_count": 12,
   "metadata": {},
   "outputs": [
    {
     "data": {
      "image/png": "[encoded data removed]",
      "text/plain": [
       "<Figure size 432x288 with 1 Axes>"
      ]
     },
     "metadata": {
      "needs_background": "light"
     },
     "output_type": "display_data"
    }
   ],
   "source": [
    "index = 124\n",
    "plt.imshow(X_train_orig[index]) #display sample training image\n",
    "plt.show()"
   ]
  },
  {
   "cell_type": "markdown",
   "metadata": {},
   "source": [
    "<a name='2'></a>\n",
    "## 2 - Layers in TF Keras \n",
    "\n",
    "In the previous assignment, you created layers manually in numpy. In TF Keras, you don't have to write code directly to create layers. Rather, TF Keras has pre-defined layers you can use. \n",
    "\n",
    "When you create a layer in TF Keras, you are creating a function that takes some input and transforms it into an output you can reuse later. Nice and easy! "
   ]
  },
  {
   "cell_type": "markdown",
   "metadata": {},
   "source": [
    "<a name='3'></a>\n",
    "## 3 - The Sequential API\n",
    "\n",
    "In the previous assignment, you built helper functions using `numpy` to understand the mechanics behind convolutional neural networks. Most practical applications of deep learning today are built using programming frameworks, which have many built-in functions you can simply call. Keras is a high-level abstraction built on top of TensorFlow, which allows for even more simplified and optimized model creation and training. \n",
    "\n",
    "For the first part of this assignment, you'll create a model using TF Keras' Sequential API, which allows you to build layer by layer, and is ideal for building models where each layer has **exactly one** input tensor and **one** output tensor. \n",
    "\n",
    "As you'll see, using the Sequential API is simple and straightforward, but is only appropriate for simpler, more straightforward tasks. Later in this notebook you'll spend some time building with a more flexible, powerful alternative: the Functional API. \n",
    " "
   ]
  },
  {
   "cell_type": "code",
   "execution_count": 1,
   "metadata": {
    "deletable": false,
    "nbgrader": {
     "cell_type": "code",
     "checksum": "95d28b191f257bdd5b70c7b8952559d5",
     "grade": false,
     "grade_id": "cell-0e56d3fc28b69aec",
     "locked": false,
     "schema_version": 3,
     "solution": true,
     "task": false
    }
   },
   "outputs": [],
   "source": [
    "\n",
    "\n",
    "import tensorflow as tf\n",
    "tfl = tf.keras.layers\n",
    "\n",
    "def happyModel():\n",
    "    \"\"\"\n",
    "    Implements the forward propagation for the binary classification model:\n",
    "    ZEROPAD2D -> CONV2D -> BATCHNORM -> RELU -> MAXPOOL -> FLATTEN -> DENSE\n",
    "    \n",
    "    Returns:\n",
    "    model -- TF Keras model (object containing the information for the entire training process) \n",
    "    \"\"\"\n",
    "    model = tf.keras.Sequential([\n",
    "        # ZeroPadding2D with padding 3, input shape 64 x 64 x 3\n",
    "        tfl.ZeroPadding2D(padding=3, input_shape=(64, 64, 3)),\n",
    "        \n",
    "        # Conv2D with 32 7x7 filters and stride of 1\n",
    "        tfl.Conv2D(filters=32, kernel_size=(7,7), strides=1, padding='valid'),\n",
    "        \n",
    "        # BatchNormalization for axis 3 (channels last)\n",
    "        tfl.BatchNormalization(axis=3),\n",
    "        \n",
    "        # ReLU activation\n",
    "        tfl.ReLU(),\n",
    "        \n",
    "        # MaxPooling2D with default parameters\n",
    "        tfl.MaxPooling2D(),\n",
    "        \n",
    "        # Flatten layer\n",
    "        tfl.Flatten(),\n",
    "        \n",
    "        # Dense layer with 1 unit for output & sigmoid activation\n",
    "        tfl.Dense(units=1, activation='sigmoid')\n",
    "    ])\n",
    "    \n",
    "    return model\n"
   ]
  },
  {
   "cell_type": "code",
   "execution_count": 14,
   "metadata": {
    "deletable": false,
    "editable": false,
    "nbgrader": {
     "cell_type": "code",
     "checksum": "8d3575c950e2e78149be2d05d671c80d",
     "grade": true,
     "grade_id": "cell-e3e1046e5c33d775",
     "locked": true,
     "points": 10,
     "schema_version": 3,
     "solution": false,
     "task": false
    }
   },
   "outputs": [
    {
     "name": "stdout",
     "output_type": "stream",
     "text": [
      "['ZeroPadding2D', (None, 70, 70, 3), 0, ((3, 3), (3, 3))]\n",
      "['Conv2D', (None, 64, 64, 32), 4736, 'valid', 'linear', 'GlorotUniform']\n",
      "['BatchNormalization', (None, 64, 64, 32), 128]\n",
      "['ReLU', (None, 64, 64, 32), 0]\n",
      "['MaxPooling2D', (None, 32, 32, 32), 0, (2, 2), (2, 2), 'valid']\n",
      "['Flatten', (None, 32768), 0]\n",
      "['Dense', (None, 1), 32769, 'sigmoid']\n",
      "\u001b[32mAll tests passed!\u001b[0m\n"
     ]
    }
   ],
   "source": [
    "happy_model = happyModel()\n",
    "# Print a summary for each layer\n",
    "for layer in summary(happy_model):\n",
    "    print(layer)\n",
    "    \n",
    "output = [['ZeroPadding2D', (None, 70, 70, 3), 0, ((3, 3), (3, 3))],\n",
    "            ['Conv2D', (None, 64, 64, 32), 4736, 'valid', 'linear', 'GlorotUniform'],\n",
    "            ['BatchNormalization', (None, 64, 64, 32), 128],\n",
    "            ['ReLU', (None, 64, 64, 32), 0],\n",
    "            ['MaxPooling2D', (None, 32, 32, 32), 0, (2, 2), (2, 2), 'valid'],\n",
    "            ['Flatten', (None, 32768), 0],\n",
    "            ['Dense', (None, 1), 32769, 'sigmoid']]\n",
    "    \n",
    "comparator(summary(happy_model), output)"
   ]
  },
  {
   "cell_type": "markdown",
   "metadata": {},
   "source": [
    "#### Expected Output:\n",
    "\n",
    "```\n",
    "['ZeroPadding2D', (None, 70, 70, 3), 0, ((3, 3), (3, 3))]\n",
    "['Conv2D', (None, 64, 64, 32), 4736, 'valid', 'linear', 'GlorotUniform']\n",
    "['BatchNormalization', (None, 64, 64, 32), 128]\n",
    "['ReLU', (None, 64, 64, 32), 0]\n",
    "['MaxPooling2D', (None, 32, 32, 32), 0, (2, 2), (2, 2), 'valid']\n",
    "['Flatten', (None, 32768), 0]\n",
    "['Dense', (None, 1), 32769, 'sigmoid']\n",
    "All tests passed!\n",
    "```"
   ]
  },
  {
   "cell_type": "markdown",
   "metadata": {},
   "source": [
    "Now that your model is created, you can compile it for training with an optimizer and loss of your choice. When the string `accuracy` is specified as a metric, the type of accuracy used will be automatically converted based on the loss function used. This is one of the many optimizations built into TensorFlow that make your life easier! If you'd like to read more on how the compiler operates, check the docs [here](https://www.tensorflow.org/api_docs/python/tf/keras/Model#compile)."
   ]
  },
  {
   "cell_type": "code",
   "execution_count": 15,
   "metadata": {},
   "outputs": [],
   "source": [
    "happy_model.compile(optimizer='adam',\n",
    "                   loss='binary_crossentropy',\n",
    "                   metrics=['accuracy'])"
   ]
  },
  {
   "cell_type": "markdown",
   "metadata": {},
   "source": [
    "It's time to check your model's parameters with the `.summary()` method. This will display the types of layers you have, the shape of the outputs, and how many parameters are in each layer. "
   ]
  },
  {
   "cell_type": "code",
   "execution_count": 16,
   "metadata": {},
   "outputs": [
    {
     "name": "stdout",
     "output_type": "stream",
     "text": [
      "Model: \"sequential_1\"\n",
      "_________________________________________________________________\n",
      "Layer (type)                 Output Shape              Param #   \n",
      "=================================================================\n",
      "zero_padding2d_1 (ZeroPaddin (None, 70, 70, 3)         0         \n",
      "_________________________________________________________________\n",
      "conv2d_1 (Conv2D)            (None, 64, 64, 32)        4736      \n",
      "_________________________________________________________________\n",
      "batch_normalization_1 (Batch (None, 64, 64, 32)        128       \n",
      "_________________________________________________________________\n",
      "re_lu_1 (ReLU)               (None, 64, 64, 32)        0         \n",
      "_________________________________________________________________\n",
      "max_pooling2d_1 (MaxPooling2 (None, 32, 32, 32)        0         \n",
      "_________________________________________________________________\n",
      "flatten_1 (Flatten)          (None, 32768)             0         \n",
      "_________________________________________________________________\n",
      "dense_1 (Dense)              (None, 1)                 32769     \n",
      "=================================================================\n",
      "Total params: 37,633\n",
      "Trainable params: 37,569\n",
      "Non-trainable params: 64\n",
      "_________________________________________________________________\n"
     ]
    }
   ],
   "source": [
    "happy_model.summary()"
   ]
  },
  {
   "cell_type": "markdown",
   "metadata": {},
   "source": [
    "<a name='3-2'></a>\n",
    "### 3.2 - Train and Evaluate the Model\n",
    "\n",
    "After creating the model, compiling it with your choice of optimizer and loss function, and doing a sanity check on its contents, you are now ready to build! \n",
    "\n",
    "Simply call `.fit()` to train. That's it! No need for mini-batching, saving, or complex backpropagation computations. That's all been done for you, as you're using a TensorFlow dataset with the batches specified already. You do have the option to specify epoch number or minibatch size if you like (for example, in the case of an un-batched dataset)."
   ]
  },
  {
   "cell_type": "code",
   "execution_count": 17,
   "metadata": {},
   "outputs": [
    {
     "name": "stdout",
     "output_type": "stream",
     "text": [
      "Epoch 1/10\n",
      "38/38 [==============================] - 4s 97ms/step - loss: 1.4913 - accuracy: 0.6650\n",
      "Epoch 2/10\n",
      "38/38 [==============================] - 4s 97ms/step - loss: 0.2142 - accuracy: 0.9117\n",
      "Epoch 3/10\n",
      "38/38 [==============================] - 4s 97ms/step - loss: 0.1931 - accuracy: 0.9033\n",
      "Epoch 4/10\n",
      "38/38 [==============================] - 4s 97ms/step - loss: 0.2056 - accuracy: 0.9333\n",
      "Epoch 5/10\n",
      "38/38 [==============================] - 4s 95ms/step - loss: 0.1182 - accuracy: 0.9533\n",
      "Epoch 6/10\n",
      "38/38 [==============================] - 4s 97ms/step - loss: 0.0853 - accuracy: 0.9767\n",
      "Epoch 7/10\n",
      "38/38 [==============================] - 4s 95ms/step - loss: 0.0998 - accuracy: 0.9700\n",
      "Epoch 8/10\n",
      "38/38 [==============================] - 4s 97ms/step - loss: 0.1179 - accuracy: 0.9567\n",
      "Epoch 9/10\n",
      "38/38 [==============================] - 4s 95ms/step - loss: 0.1945 - accuracy: 0.9317\n",
      "Epoch 10/10\n",
      "38/38 [==============================] - 4s 97ms/step - loss: 0.1363 - accuracy: 0.9417\n"
     ]
    },
    {
     "data": {
      "text/plain": [
       "<tensorflow.python.keras.callbacks.History at 0x7c317efb0890>"
      ]
     },
     "execution_count": 17,
     "metadata": {},
     "output_type": "execute_result"
    }
   ],
   "source": [
    "happy_model.fit(X_train, Y_train, epochs=10, batch_size=16)"
   ]
  },
  {
   "cell_type": "markdown",
   "metadata": {},
   "source": [
    "After that completes, just use `.evaluate()` to evaluate against your test set. This function will print the value of the loss function and the performance metrics specified during the compilation of the model. In this case, the `binary_crossentropy` and the `accuracy` respectively."
   ]
  },
  {
   "cell_type": "code",
   "execution_count": 18,
   "metadata": {},
   "outputs": [
    {
     "name": "stdout",
     "output_type": "stream",
     "text": [
      "5/5 [==============================] - 0s 32ms/step - loss: 1.5827 - accuracy: 0.6067\n"
     ]
    },
    {
     "data": {
      "text/plain": [
       "[1.582707405090332, 0.6066666841506958]"
      ]
     },
     "execution_count": 18,
     "metadata": {},
     "output_type": "execute_result"
    }
   ],
   "source": [
    "happy_model.evaluate(X_test, Y_test)"
   ]
  },
  {
   "cell_type": "markdown",
   "metadata": {},
   "source": [
    "Easy, right? But what if you need to build a model with shared layers, branches, or multiple inputs and outputs? This is where Sequential, with its beautifully simple yet limited functionality, won't be able to help you. \n",
    "\n",
    "Next up: Enter the Functional API, your slightly more complex, highly flexible friend.  "
   ]
  },
  {
   "cell_type": "markdown",
   "metadata": {},
   "source": [
    "<a name='4'></a>\n",
    "## 4 - The Functional API"
   ]
  },
  {
   "cell_type": "markdown",
   "metadata": {},
   "source": [
    "Welcome to the second half of the assignment, where you'll use Keras' flexible [Functional API](https://www.tensorflow.org/guide/keras/functional) to build a ConvNet that can differentiate between 6 sign language digits. \n",
    "\n",
    "The Functional API can handle models with non-linear topology, shared layers, as well as layers with multiple inputs or outputs. Imagine that, where the Sequential API requires the model to move in a linear fashion through its layers, the Functional API allows much more flexibility. Where Sequential is a straight line, a Functional model is a graph, where the nodes of the layers can connect in many more ways than one. \n",
    "\n",
    "In the visual example below, the one possible direction of the movement Sequential model is shown in contrast to a skip connection, which is just one of the many ways a Functional model can be constructed. A skip connection, as you might have guessed, skips some layer in the network and feeds the output to a later layer in the network. Don't worry, you'll be spending more time with skip connections very soon! "
   ]
  },
  {
   "cell_type": "markdown",
   "metadata": {},
   "source": [
    "<img src=\"images/seq_vs_func.png\" style=\"width:350px;height:200px;\">"
   ]
  },
  {
   "cell_type": "markdown",
   "metadata": {},
   "source": [
    "<a name='4-1'></a>\n",
    "### 4.1 - Load the SIGNS Dataset\n",
    "\n",
    "As a reminder, the SIGNS dataset is a collection of 6 signs representing numbers from 0 to 5."
   ]
  },
  {
   "cell_type": "code",
   "execution_count": 19,
   "metadata": {},
   "outputs": [],
   "source": [
    "# Loading the data (signs)\n",
    "X_train_orig, Y_train_orig, X_test_orig, Y_test_orig, classes = load_signs_dataset()"
   ]
  },
  {
   "cell_type": "markdown",
   "metadata": {},
   "source": [
    "<img src=\"images/SIGNS.png\" style=\"width:800px;height:300px;\">\n",
    "\n",
    "The next cell will show you an example of a labelled image in the dataset. Feel free to change the value of `index` below and re-run to see different examples. "
   ]
  },
  {
   "cell_type": "code",
   "execution_count": 20,
   "metadata": {},
   "outputs": [
    {
     "name": "stdout",
     "output_type": "stream",
     "text": [
      "y = 4\n"
     ]
    },
    {
     "data": {
      "image/png": "[encoded data removed]",
      "text/plain": [
       "<Figure size 432x288 with 1 Axes>"
      ]
     },
     "metadata": {
      "needs_background": "light"
     },
     "output_type": "display_data"
    }
   ],
   "source": [
    "# Example of an image from the dataset\n",
    "index = 9\n",
    "plt.imshow(X_train_orig[index])\n",
    "print (\"y = \" + str(np.squeeze(Y_train_orig[:, index])))"
   ]
  },
  {
   "cell_type": "markdown",
   "metadata": {},
   "source": [
    "<a name='4-2'></a>\n",
    "### 4.2 - Split the Data into Train/Test Sets\n",
    "\n",
    "In Course 2, you built a fully-connected network for this dataset. But since this is an image dataset, it is more natural to apply a ConvNet to it.\n",
    "\n",
    "To get started, let's examine the shapes of your data. "
   ]
  },
  {
   "cell_type": "code",
   "execution_count": 21,
   "metadata": {},
   "outputs": [
    {
     "name": "stdout",
     "output_type": "stream",
     "text": [
      "number of training examples = 1080\n",
      "number of test examples = 120\n",
      "X_train shape: (1080, 64, 64, 3)\n",
      "Y_train shape: (1080, 6)\n",
      "X_test shape: (120, 64, 64, 3)\n",
      "Y_test shape: (120, 6)\n"
     ]
    }
   ],
   "source": [
    "X_train = X_train_orig/255.\n",
    "X_test = X_test_orig/255.\n",
    "Y_train = convert_to_one_hot(Y_train_orig, 6).T\n",
    "Y_test = convert_to_one_hot(Y_test_orig, 6).T\n",
    "print (\"number of training examples = \" + str(X_train.shape[0]))\n",
    "print (\"number of test examples = \" + str(X_test.shape[0]))\n",
    "print (\"X_train shape: \" + str(X_train.shape))\n",
    "print (\"Y_train shape: \" + str(Y_train.shape))\n",
    "print (\"X_test shape: \" + str(X_test.shape))\n",
    "print (\"Y_test shape: \" + str(Y_test.shape))"
   ]
  },
  {
   "cell_type": "markdown",
   "metadata": {},
   "source": [
    "<a name='4-3'></a>\n",
    "### 4.3 - Forward Propagation\n",
    "\n",
    "In TensorFlow, there are built-in functions that implement the convolution steps for you. By now, you should be familiar with how TensorFlow builds computational graphs. In the [Functional API](https://www.tensorflow.org/guide/keras/functional), you create a graph of layers. This is what allows such great flexibility.\n",
    "\n",
    "However, the following model could also be defined using the Sequential API since the information flow is on a single line. But don't deviate. What we want you to learn is to use the functional API.\n",
    "\n",
    "Begin building your graph of layers by creating an input node that functions as a callable object:\n",
    "\n",
    "- **input_img = tf.keras.Input(shape=input_shape):** \n",
    "\n",
    "Then, create a new node in the graph of layers by calling a layer on the `input_img` object: \n",
    "\n",
    "- **tf.keras.layers.Conv2D(filters= ... , kernel_size= ... , padding='same')(input_img):** Read the full documentation on [Conv2D](https://www.tensorflow.org/api_docs/python/tf/keras/layers/Conv2D).\n",
    "\n",
    "- **tf.keras.layers.MaxPool2D(pool_size=(f, f), strides=(s, s), padding='same'):** `MaxPool2D()` downsamples your input using a window of size (f, f) and strides of size (s, s) to carry out max pooling over each window.  For max pooling, you usually operate on a single example at a time and a single channel at a time. Read the full documentation on [MaxPool2D](https://www.tensorflow.org/api_docs/python/tf/keras/layers/MaxPool2D).\n",
    "\n",
    "- **tf.keras.layers.ReLU():** computes the elementwise ReLU of Z (which can be any shape). You can read the full documentation on [ReLU](https://www.tensorflow.org/api_docs/python/tf/keras/layers/ReLU).\n",
    "\n",
    "- **tf.keras.layers.Flatten()**: given a tensor \"P\", this function takes each training (or test) example in the batch and flattens it into a 1D vector.  \n",
    "\n",
    "    * If a tensor P has the shape (batch_size,h,w,c), it returns a flattened tensor with shape (batch_size, k), where $k=h \\times w \\times c$.  \"k\" equals the product of all the dimension sizes other than the first dimension.\n",
    "    \n",
    "    * For example, given a tensor with dimensions [100, 2, 3, 4], it flattens the tensor to be of shape [100, 24], where 24 = 2 * 3 * 4.  You can read the full documentation on [Flatten](https://www.tensorflow.org/api_docs/python/tf/keras/layers/Flatten).\n",
    "\n",
    "- **tf.keras.layers.Dense(units= ... , activation='softmax')(F):** given the flattened input F, it returns the output computed using a fully connected layer. You can read the full documentation on [Dense](https://www.tensorflow.org/api_docs/python/tf/keras/layers/Dense).\n",
    "\n",
    "In the last function above (`tf.keras.layers.Dense()`), the fully connected layer automatically initializes weights in the graph and keeps on training them as you train the model. Hence, you did not need to initialize those weights when initializing the parameters.\n",
    "\n",
    "Lastly, before creating the model, you'll need to define the output using the last of the function's compositions (in this example, a Dense layer): \n",
    "\n",
    "- **outputs = tf.keras.layers.Dense(units=6, activation='softmax')(F)**\n",
    "\n",
    "\n",
    "#### Window, kernel, filter, pool\n",
    "\n",
    "The words \"kernel\" and \"filter\" are used to refer to the same thing. The word \"filter\" accounts for the amount of \"kernels\" that will be used in a single convolution layer. \"Pool\" is the name of the operation that takes the max or average value of the kernels. \n",
    "\n",
    "This is why the parameter `pool_size` refers to `kernel_size`, and you use `(f,f)` to refer to the filter size. \n",
    "\n",
    "Pool size and kernel size refer to the same thing in different objects - They refer to the shape of the window where the operation takes place. "
   ]
  },
  {
   "cell_type": "code",
   "execution_count": 22,
   "metadata": {
    "deletable": false,
    "nbgrader": {
     "cell_type": "code",
     "checksum": "f58643806aa8380c96225fc8b4c5e7aa",
     "grade": false,
     "grade_id": "cell-dac51744a9e03f51",
     "locked": false,
     "schema_version": 3,
     "solution": true,
     "task": false
    }
   },
   "outputs": [],
   "source": [
    "# GRADED FUNCTION: convolutional_model\n",
    "\n",
    "import tensorflow as tf\n",
    "\n",
    "def convolutional_model(input_shape):\n",
    "    \"\"\"\n",
    "    Implements the forward propagation for the model:\n",
    "    CONV2D -> RELU -> MAXPOOL -> CONV2D -> RELU -> MAXPOOL -> FLATTEN -> DENSE\n",
    "    \n",
    "    Arguments:\n",
    "    input_shape -- shape of the input images (height, width, channels)\n",
    "    \n",
    "    Returns:\n",
    "    model -- TF Keras model\n",
    "    \"\"\"\n",
    "    input_img = tf.keras.Input(shape=input_shape)\n",
    "    \n",
    "    # CONV2D: 8 filters 4x4, stride of 1, padding 'SAME'\n",
    "    Z1 = tf.keras.layers.Conv2D(filters=8, kernel_size=(4,4), strides=1, padding='same')(input_img)\n",
    "    \n",
    "    # RELU\n",
    "    A1 = tf.keras.layers.ReLU()(Z1)\n",
    "    \n",
    "    # MAXPOOL: window 8x8, stride 8, padding 'SAME'\n",
    "    P1 = tf.keras.layers.MaxPooling2D(pool_size=(8,8), strides=8, padding='same')(A1)\n",
    "    \n",
    "    # CONV2D: 16 filters 2x2, stride 1, padding 'SAME'\n",
    "    Z2 = tf.keras.layers.Conv2D(filters=16, kernel_size=(2,2), strides=1, padding='same')(P1)\n",
    "    \n",
    "    # RELU\n",
    "    A2 = tf.keras.layers.ReLU()(Z2)\n",
    "    \n",
    "    # MAXPOOL: window 4x4, stride 4, padding 'SAME'\n",
    "    P2 = tf.keras.layers.MaxPooling2D(pool_size=(4,4), strides=4, padding='same')(A2)\n",
    "    \n",
    "    # FLATTEN\n",
    "    F = tf.keras.layers.Flatten()(P2)\n",
    "    \n",
    "    # Dense layer with 6 neurons and softmax activation\n",
    "    outputs = tf.keras.layers.Dense(units=6, activation='softmax')(F)\n",
    "    \n",
    "    model = tf.keras.Model(inputs=input_img, outputs=outputs)\n",
    "    return model\n"
   ]
  },
  {
   "cell_type": "code",
   "execution_count": 23,
   "metadata": {
    "deletable": false,
    "editable": false,
    "nbgrader": {
     "cell_type": "code",
     "checksum": "483d626949930a0b0ef20997e7c6ba72",
     "grade": true,
     "grade_id": "cell-45d22e92042174c9",
     "locked": true,
     "points": 10,
     "schema_version": 3,
     "solution": false,
     "task": false
    }
   },
   "outputs": [
    {
     "name": "stdout",
     "output_type": "stream",
     "text": [
      "Model: \"functional_1\"\n",
      "_________________________________________________________________\n",
      "Layer (type)                 Output Shape              Param #   \n",
      "=================================================================\n",
      "input_1 (InputLayer)         [(None, 64, 64, 3)]       0         \n",
      "_________________________________________________________________\n",
      "conv2d_2 (Conv2D)            (None, 64, 64, 8)         392       \n",
      "_________________________________________________________________\n",
      "re_lu_2 (ReLU)               (None, 64, 64, 8)         0         \n",
      "_________________________________________________________________\n",
      "max_pooling2d_2 (MaxPooling2 (None, 8, 8, 8)           0         \n",
      "_________________________________________________________________\n",
      "conv2d_3 (Conv2D)            (None, 8, 8, 16)          528       \n",
      "_________________________________________________________________\n",
      "re_lu_3 (ReLU)               (None, 8, 8, 16)          0         \n",
      "_________________________________________________________________\n",
      "max_pooling2d_3 (MaxPooling2 (None, 2, 2, 16)          0         \n",
      "_________________________________________________________________\n",
      "flatten_2 (Flatten)          (None, 64)                0         \n",
      "_________________________________________________________________\n",
      "dense_2 (Dense)              (None, 6)                 390       \n",
      "=================================================================\n",
      "Total params: 1,310\n",
      "Trainable params: 1,310\n",
      "Non-trainable params: 0\n",
      "_________________________________________________________________\n",
      "\u001b[32mAll tests passed!\u001b[0m\n"
     ]
    }
   ],
   "source": [
    "conv_model = convolutional_model((64, 64, 3))\n",
    "conv_model.compile(optimizer='adam',\n",
    "                  loss='categorical_crossentropy',\n",
    "                  metrics=['accuracy'])\n",
    "conv_model.summary()\n",
    "    \n",
    "output = [['InputLayer', [(None, 64, 64, 3)], 0],\n",
    "        ['Conv2D', (None, 64, 64, 8), 392, 'same', 'linear', 'GlorotUniform'],\n",
    "        ['ReLU', (None, 64, 64, 8), 0],\n",
    "        ['MaxPooling2D', (None, 8, 8, 8), 0, (8, 8), (8, 8), 'same'],\n",
    "        ['Conv2D', (None, 8, 8, 16), 528, 'same', 'linear', 'GlorotUniform'],\n",
    "        ['ReLU', (None, 8, 8, 16), 0],\n",
    "        ['MaxPooling2D', (None, 2, 2, 16), 0, (4, 4), (4, 4), 'same'],\n",
    "        ['Flatten', (None, 64), 0],\n",
    "        ['Dense', (None, 6), 390, 'softmax']]\n",
    "    \n",
    "comparator(summary(conv_model), output)"
   ]
  },
  {
   "cell_type": "markdown",
   "metadata": {},
   "source": [
    "Both the Sequential and Functional APIs return a TF Keras model object. The only difference is how inputs are handled inside the object model! "
   ]
  },
  {
   "cell_type": "markdown",
   "metadata": {},
   "source": [
    "<a name='4-4'></a>\n",
    "### 4.4 - Train the Model"
   ]
  },
  {
   "cell_type": "code",
   "execution_count": 24,
   "metadata": {},
   "outputs": [
    {
     "name": "stdout",
     "output_type": "stream",
     "text": [
      "Epoch 1/100\n",
      "17/17 [==============================] - 2s 112ms/step - loss: 1.8376 - accuracy: 0.1685 - val_loss: 1.7919 - val_accuracy: 0.2333\n",
      "Epoch 2/100\n",
      "17/17 [==============================] - 2s 107ms/step - loss: 1.7892 - accuracy: 0.2231 - val_loss: 1.7844 - val_accuracy: 0.2667\n",
      "Epoch 3/100\n",
      "17/17 [==============================] - 2s 107ms/step - loss: 1.7860 - accuracy: 0.1954 - val_loss: 1.7818 - val_accuracy: 0.2250\n",
      "Epoch 4/100\n",
      "17/17 [==============================] - 2s 106ms/step - loss: 1.7834 - accuracy: 0.1935 - val_loss: 1.7791 - val_accuracy: 0.2667\n",
      "Epoch 5/100\n",
      "17/17 [==============================] - 2s 112ms/step - loss: 1.7807 - accuracy: 0.2333 - val_loss: 1.7763 - val_accuracy: 0.2917\n",
      "Epoch 6/100\n",
      "17/17 [==============================] - 2s 106ms/step - loss: 1.7779 - accuracy: 0.2731 - val_loss: 1.7733 - val_accuracy: 0.3167\n",
      "Epoch 7/100\n",
      "17/17 [==============================] - 2s 111ms/step - loss: 1.7745 - accuracy: 0.2963 - val_loss: 1.7700 - val_accuracy: 0.3000\n",
      "Epoch 8/100\n",
      "17/17 [==============================] - 2s 107ms/step - loss: 1.7709 - accuracy: 0.3056 - val_loss: 1.7657 - val_accuracy: 0.3333\n",
      "Epoch 9/100\n",
      "17/17 [==============================] - 2s 106ms/step - loss: 1.7663 - accuracy: 0.3148 - val_loss: 1.7605 - val_accuracy: 0.3333\n",
      "Epoch 10/100\n",
      "17/17 [==============================] - 2s 106ms/step - loss: 1.7609 - accuracy: 0.3139 - val_loss: 1.7543 - val_accuracy: 0.3583\n",
      "Epoch 11/100\n",
      "17/17 [==============================] - 2s 106ms/step - loss: 1.7543 - accuracy: 0.3231 - val_loss: 1.7472 - val_accuracy: 0.3583\n",
      "Epoch 12/100\n",
      "17/17 [==============================] - 2s 106ms/step - loss: 1.7469 - accuracy: 0.3444 - val_loss: 1.7381 - val_accuracy: 0.3667\n",
      "Epoch 13/100\n",
      "17/17 [==============================] - 2s 101ms/step - loss: 1.7382 - accuracy: 0.3500 - val_loss: 1.7285 - val_accuracy: 0.3917\n",
      "Epoch 14/100\n",
      "17/17 [==============================] - 2s 106ms/step - loss: 1.7281 - accuracy: 0.3611 - val_loss: 1.7172 - val_accuracy: 0.4167\n",
      "Epoch 15/100\n",
      "17/17 [==============================] - 2s 112ms/step - loss: 1.7161 - accuracy: 0.3750 - val_loss: 1.7024 - val_accuracy: 0.4000\n",
      "Epoch 16/100\n",
      "17/17 [==============================] - 2s 106ms/step - loss: 1.7019 - accuracy: 0.3713 - val_loss: 1.6855 - val_accuracy: 0.4167\n",
      "Epoch 17/100\n",
      "17/17 [==============================] - 2s 111ms/step - loss: 1.6835 - accuracy: 0.3907 - val_loss: 1.6643 - val_accuracy: 0.4250\n",
      "Epoch 18/100\n",
      "17/17 [==============================] - 2s 111ms/step - loss: 1.6593 - accuracy: 0.3806 - val_loss: 1.6355 - val_accuracy: 0.4750\n",
      "Epoch 19/100\n",
      "17/17 [==============================] - 2s 111ms/step - loss: 1.6281 - accuracy: 0.4120 - val_loss: 1.6040 - val_accuracy: 0.4583\n",
      "Epoch 20/100\n",
      "17/17 [==============================] - 2s 106ms/step - loss: 1.5947 - accuracy: 0.4324 - val_loss: 1.5703 - val_accuracy: 0.4833\n",
      "Epoch 21/100\n",
      "17/17 [==============================] - 2s 112ms/step - loss: 1.5582 - accuracy: 0.4491 - val_loss: 1.5372 - val_accuracy: 0.4583\n",
      "Epoch 22/100\n",
      "17/17 [==============================] - 2s 106ms/step - loss: 1.5194 - accuracy: 0.4694 - val_loss: 1.5025 - val_accuracy: 0.4583\n",
      "Epoch 23/100\n",
      "17/17 [==============================] - 2s 106ms/step - loss: 1.4772 - accuracy: 0.4944 - val_loss: 1.4674 - val_accuracy: 0.4667\n",
      "Epoch 24/100\n",
      "17/17 [==============================] - 2s 106ms/step - loss: 1.4316 - accuracy: 0.5111 - val_loss: 1.4273 - val_accuracy: 0.4667\n",
      "Epoch 25/100\n",
      "17/17 [==============================] - 2s 107ms/step - loss: 1.3880 - accuracy: 0.5213 - val_loss: 1.3918 - val_accuracy: 0.4583\n",
      "Epoch 26/100\n",
      "17/17 [==============================] - 2s 106ms/step - loss: 1.3447 - accuracy: 0.5380 - val_loss: 1.3586 - val_accuracy: 0.4667\n",
      "Epoch 27/100\n",
      "17/17 [==============================] - 2s 106ms/step - loss: 1.3029 - accuracy: 0.5481 - val_loss: 1.3264 - val_accuracy: 0.4667\n",
      "Epoch 28/100\n",
      "17/17 [==============================] - 2s 106ms/step - loss: 1.2637 - accuracy: 0.5639 - val_loss: 1.2947 - val_accuracy: 0.4750\n",
      "Epoch 29/100\n",
      "17/17 [==============================] - 2s 106ms/step - loss: 1.2267 - accuracy: 0.5824 - val_loss: 1.2690 - val_accuracy: 0.4750\n",
      "Epoch 30/100\n",
      "17/17 [==============================] - 2s 106ms/step - loss: 1.1931 - accuracy: 0.5852 - val_loss: 1.2414 - val_accuracy: 0.4917\n",
      "Epoch 31/100\n",
      "17/17 [==============================] - 2s 107ms/step - loss: 1.0772 - accuracy: 0.6167 - val_loss: 1.1465 - val_accuracy: 0.5667\n",
      "Epoch 35/100\n",
      "17/17 [==============================] - 2s 106ms/step - loss: 1.0537 - accuracy: 0.6278 - val_loss: 1.1262 - val_accuracy: 0.6000\n",
      "Epoch 36/100\n",
      "17/17 [==============================] - 2s 106ms/step - loss: 1.0309 - accuracy: 0.6435 - val_loss: 1.1085 - val_accuracy: 0.6000\n",
      "Epoch 37/100\n",
      "17/17 [==============================] - 2s 106ms/step - loss: 1.0089 - accuracy: 0.6519 - val_loss: 1.0883 - val_accuracy: 0.6083\n",
      "Epoch 38/100\n",
      "17/17 [==============================] - 2s 111ms/step - loss: 0.9883 - accuracy: 0.6602 - val_loss: 1.0686 - val_accuracy: 0.6000\n",
      "Epoch 39/100\n",
      "17/17 [==============================] - 2s 107ms/step - loss: 0.9684 - accuracy: 0.6667 - val_loss: 1.0412 - val_accuracy: 0.6250\n",
      "Epoch 40/100\n",
      "17/17 [==============================] - 2s 106ms/step - loss: 0.9503 - accuracy: 0.6731 - val_loss: 1.0239 - val_accuracy: 0.6083\n",
      "Epoch 41/100\n",
      "17/17 [==============================] - 2s 106ms/step - loss: 0.9311 - accuracy: 0.6750 - val_loss: 1.0036 - val_accuracy: 0.6333\n",
      "Epoch 42/100\n",
      "17/17 [==============================] - 2s 106ms/step - loss: 0.9124 - accuracy: 0.6843 - val_loss: 0.9867 - val_accuracy: 0.6250\n",
      "Epoch 43/100\n",
      "17/17 [==============================] - 2s 106ms/step - loss: 0.8941 - accuracy: 0.6907 - val_loss: 0.9692 - val_accuracy: 0.6417\n",
      "Epoch 44/100\n",
      "17/17 [==============================] - 2s 106ms/step - loss: 0.8776 - accuracy: 0.7009 - val_loss: 0.9534 - val_accuracy: 0.6500\n",
      "Epoch 45/100\n",
      "17/17 [==============================] - 2s 106ms/step - loss: 0.8622 - accuracy: 0.7102 - val_loss: 0.9420 - val_accuracy: 0.6750\n",
      "Epoch 46/100\n",
      "17/17 [==============================] - 2s 111ms/step - loss: 0.8468 - accuracy: 0.7074 - val_loss: 0.9304 - val_accuracy: 0.6667\n",
      "Epoch 47/100\n",
      "17/17 [==============================] - 2s 111ms/step - loss: 0.8324 - accuracy: 0.7139 - val_loss: 0.9164 - val_accuracy: 0.6750\n",
      "Epoch 48/100\n",
      "17/17 [==============================] - 2s 111ms/step - loss: 0.8189 - accuracy: 0.7167 - val_loss: 0.9047 - val_accuracy: 0.6750\n",
      "Epoch 49/100\n",
      "17/17 [==============================] - 2s 112ms/step - loss: 0.8059 - accuracy: 0.7259 - val_loss: 0.8924 - val_accuracy: 0.6750\n",
      "Epoch 50/100\n",
      "17/17 [==============================] - 2s 106ms/step - loss: 0.7946 - accuracy: 0.7287 - val_loss: 0.8812 - val_accuracy: 0.6833\n",
      "Epoch 51/100\n",
      "17/17 [==============================] - 2s 111ms/step - loss: 0.7834 - accuracy: 0.7352 - val_loss: 0.8704 - val_accuracy: 0.6750\n",
      "Epoch 52/100\n",
      "17/17 [==============================] - 2s 106ms/step - loss: 0.7722 - accuracy: 0.7426 - val_loss: 0.8603 - val_accuracy: 0.6667\n",
      "Epoch 53/100\n",
      "17/17 [==============================] - 2s 106ms/step - loss: 0.7624 - accuracy: 0.7463 - val_loss: 0.8509 - val_accuracy: 0.6833\n",
      "Epoch 54/100\n",
      "17/17 [==============================] - 2s 106ms/step - loss: 0.7528 - accuracy: 0.7491 - val_loss: 0.8418 - val_accuracy: 0.6833\n",
      "Epoch 55/100\n",
      "17/17 [==============================] - 2s 106ms/step - loss: 0.7432 - accuracy: 0.7500 - val_loss: 0.8338 - val_accuracy: 0.6833\n",
      "Epoch 56/100\n",
      "17/17 [==============================] - 2s 106ms/step - loss: 0.7342 - accuracy: 0.7519 - val_loss: 0.8252 - val_accuracy: 0.6750\n",
      "Epoch 57/100\n",
      "17/17 [==============================] - 2s 106ms/step - loss: 0.7244 - accuracy: 0.7537 - val_loss: 0.8180 - val_accuracy: 0.6667\n",
      "Epoch 58/100\n",
      "17/17 [==============================] - 2s 106ms/step - loss: 0.7157 - accuracy: 0.7556 - val_loss: 0.8102 - val_accuracy: 0.6833\n",
      "Epoch 59/100\n",
      "17/17 [==============================] - 2s 106ms/step - loss: 0.7074 - accuracy: 0.7546 - val_loss: 0.8046 - val_accuracy: 0.6750\n",
      "Epoch 60/100\n",
      "17/17 [==============================] - 2s 112ms/step - loss: 0.6995 - accuracy: 0.7546 - val_loss: 0.7988 - val_accuracy: 0.6750\n"
     ]
    },
    {
     "name": "stdout",
     "output_type": "stream",
     "text": [
      "Epoch 61/100\n",
      "17/17 [==============================] - 2s 107ms/step - loss: 0.6920 - accuracy: 0.7565 - val_loss: 0.7940 - val_accuracy: 0.7000\n",
      "Epoch 62/100\n",
      "17/17 [==============================] - 2s 107ms/step - loss: 0.6844 - accuracy: 0.7565 - val_loss: 0.7883 - val_accuracy: 0.7083\n",
      "Epoch 63/100\n",
      "17/17 [==============================] - 2s 106ms/step - loss: 0.6783 - accuracy: 0.7602 - val_loss: 0.7852 - val_accuracy: 0.7083\n",
      "Epoch 64/100\n",
      "17/17 [==============================] - 2s 107ms/step - loss: 0.6713 - accuracy: 0.7602 - val_loss: 0.7808 - val_accuracy: 0.7083\n",
      "Epoch 65/100\n",
      "17/17 [==============================] - 2s 106ms/step - loss: 0.6653 - accuracy: 0.7583 - val_loss: 0.7775 - val_accuracy: 0.7083\n",
      "Epoch 66/100\n",
      "17/17 [==============================] - 2s 111ms/step - loss: 0.6589 - accuracy: 0.7639 - val_loss: 0.7739 - val_accuracy: 0.7083\n",
      "Epoch 67/100\n",
      "17/17 [==============================] - 2s 111ms/step - loss: 0.6519 - accuracy: 0.7630 - val_loss: 0.7699 - val_accuracy: 0.7083\n",
      "Epoch 68/100\n",
      "17/17 [==============================] - 2s 111ms/step - loss: 0.6446 - accuracy: 0.7639 - val_loss: 0.7669 - val_accuracy: 0.7083\n",
      "Epoch 69/100\n",
      "17/17 [==============================] - 2s 112ms/step - loss: 0.6391 - accuracy: 0.7667 - val_loss: 0.7639 - val_accuracy: 0.7000\n",
      "Epoch 70/100\n",
      "17/17 [==============================] - 2s 117ms/step - loss: 0.6342 - accuracy: 0.7639 - val_loss: 0.7629 - val_accuracy: 0.7083\n",
      "Epoch 71/100\n",
      "17/17 [==============================] - 2s 112ms/step - loss: 0.6295 - accuracy: 0.7657 - val_loss: 0.7600 - val_accuracy: 0.7000\n",
      "Epoch 72/100\n",
      "17/17 [==============================] - 2s 106ms/step - loss: 0.6232 - accuracy: 0.7676 - val_loss: 0.7566 - val_accuracy: 0.7083\n",
      "Epoch 73/100\n",
      "17/17 [==============================] - 2s 108ms/step - loss: 0.6183 - accuracy: 0.7731 - val_loss: 0.7494 - val_accuracy: 0.7083\n",
      "Epoch 74/100\n",
      "17/17 [==============================] - 2s 106ms/step - loss: 0.6121 - accuracy: 0.7769 - val_loss: 0.7462 - val_accuracy: 0.7083\n",
      "Epoch 75/100\n",
      "17/17 [==============================] - 2s 107ms/step - loss: 0.6064 - accuracy: 0.7824 - val_loss: 0.7377 - val_accuracy: 0.7083\n",
      "Epoch 76/100\n",
      "17/17 [==============================] - 2s 106ms/step - loss: 0.6008 - accuracy: 0.7843 - val_loss: 0.7350 - val_accuracy: 0.7167\n",
      "Epoch 77/100\n",
      "17/17 [==============================] - 2s 111ms/step - loss: 0.5947 - accuracy: 0.7870 - val_loss: 0.7287 - val_accuracy: 0.7167\n",
      "Epoch 78/100\n",
      "17/17 [==============================] - 2s 107ms/step - loss: 0.5892 - accuracy: 0.7898 - val_loss: 0.7252 - val_accuracy: 0.7083\n",
      "Epoch 79/100\n",
      "17/17 [==============================] - 2s 112ms/step - loss: 0.5833 - accuracy: 0.7917 - val_loss: 0.7183 - val_accuracy: 0.7083\n",
      "Epoch 80/100\n",
      "17/17 [==============================] - 2s 112ms/step - loss: 0.5773 - accuracy: 0.7944 - val_loss: 0.7164 - val_accuracy: 0.7083\n",
      "Epoch 81/100\n",
      "17/17 [==============================] - 2s 111ms/step - loss: 0.5721 - accuracy: 0.7954 - val_loss: 0.7098 - val_accuracy: 0.7083\n",
      "Epoch 82/100\n",
      "17/17 [==============================] - 2s 111ms/step - loss: 0.5668 - accuracy: 0.7981 - val_loss: 0.7073 - val_accuracy: 0.7083\n",
      "Epoch 83/100\n",
      "17/17 [==============================] - 2s 112ms/step - loss: 0.5609 - accuracy: 0.8056 - val_loss: 0.7006 - val_accuracy: 0.7083\n",
      "Epoch 84/100\n",
      "17/17 [==============================] - 2s 107ms/step - loss: 0.5549 - accuracy: 0.8037 - val_loss: 0.7001 - val_accuracy: 0.7083\n",
      "Epoch 85/100\n",
      "17/17 [==============================] - 2s 107ms/step - loss: 0.5500 - accuracy: 0.8083 - val_loss: 0.6920 - val_accuracy: 0.7167\n",
      "Epoch 86/100\n",
      "17/17 [==============================] - 2s 112ms/step - loss: 0.5450 - accuracy: 0.8111 - val_loss: 0.6926 - val_accuracy: 0.7083\n",
      "Epoch 87/100\n",
      "17/17 [==============================] - 2s 111ms/step - loss: 0.5403 - accuracy: 0.8139 - val_loss: 0.6853 - val_accuracy: 0.7167\n",
      "Epoch 88/100\n",
      "17/17 [==============================] - 2s 106ms/step - loss: 0.5363 - accuracy: 0.8130 - val_loss: 0.6831 - val_accuracy: 0.7167\n",
      "Epoch 89/100\n",
      "17/17 [==============================] - 2s 112ms/step - loss: 0.5317 - accuracy: 0.8167 - val_loss: 0.6780 - val_accuracy: 0.7333\n",
      "Epoch 90/100\n",
      "17/17 [==============================] - 2s 107ms/step - loss: 0.5272 - accuracy: 0.8176 - val_loss: 0.6748 - val_accuracy: 0.7250\n",
      "Epoch 91/100\n",
      "17/17 [==============================] - 2s 106ms/step - loss: 0.5229 - accuracy: 0.8204 - val_loss: 0.6705 - val_accuracy: 0.7417\n",
      "Epoch 92/100\n",
      "17/17 [==============================] - 2s 107ms/step - loss: 0.5186 - accuracy: 0.8204 - val_loss: 0.6699 - val_accuracy: 0.7333\n",
      "Epoch 93/100\n",
      "17/17 [==============================] - 2s 106ms/step - loss: 0.5149 - accuracy: 0.8241 - val_loss: 0.6655 - val_accuracy: 0.7333\n",
      "Epoch 94/100\n",
      "17/17 [==============================] - 2s 112ms/step - loss: 0.5106 - accuracy: 0.8250 - val_loss: 0.6623 - val_accuracy: 0.7417\n",
      "Epoch 95/100\n",
      "17/17 [==============================] - 2s 112ms/step - loss: 0.5070 - accuracy: 0.8241 - val_loss: 0.6590 - val_accuracy: 0.7417\n",
      "Epoch 96/100\n",
      "17/17 [==============================] - 2s 107ms/step - loss: 0.5034 - accuracy: 0.8259 - val_loss: 0.6567 - val_accuracy: 0.7417\n",
      "Epoch 97/100\n",
      "17/17 [==============================] - 2s 112ms/step - loss: 0.4995 - accuracy: 0.8231 - val_loss: 0.6545 - val_accuracy: 0.7333\n",
      "Epoch 98/100\n",
      "17/17 [==============================] - 2s 106ms/step - loss: 0.4961 - accuracy: 0.8250 - val_loss: 0.6510 - val_accuracy: 0.7333\n",
      "Epoch 99/100\n",
      "17/17 [==============================] - 2s 106ms/step - loss: 0.4922 - accuracy: 0.8231 - val_loss: 0.6481 - val_accuracy: 0.7333\n",
      "Epoch 100/100\n",
      "17/17 [==============================] - 2s 106ms/step - loss: 0.4886 - accuracy: 0.8250 - val_loss: 0.6458 - val_accuracy: 0.7333\n"
     ]
    }
   ],
   "source": [
    "train_dataset = tf.data.Dataset.from_tensor_slices((X_train, Y_train)).batch(64)\n",
    "test_dataset = tf.data.Dataset.from_tensor_slices((X_test, Y_test)).batch(64)\n",
    "history = conv_model.fit(train_dataset, epochs=100, validation_data=test_dataset)"
   ]
  },
  {
   "cell_type": "markdown",
   "metadata": {},
   "source": [
    "<a name='5'></a>\n",
    "## 5 - History Object \n",
    "\n",
    "The history object is an output of the `.fit()` operation, and provides a record of all the loss and metric values in memory. It's stored as a dictionary that you can retrieve at `history.history`: "
   ]
  },
  {
   "cell_type": "code",
   "execution_count": 25,
   "metadata": {},
   "outputs": [
    {
     "data": {
      "text/plain": [
       "{'loss': [1.8375605344772339,\n",
       "  1.7891632318496704,\n",
       "  1.7860352993011475,\n",
       "  1.7833771705627441,\n",
       "  1.7806528806686401,\n",
       "  1.777904987335205,\n",
       "  1.7745329141616821,\n",
       "  1.7709033489227295,\n",
       "  1.766345500946045,\n",
       "  1.76091468334198,\n",
       "  1.7543257474899292,\n",
       "  1.746910572052002,\n",
       "  1.7382283210754395,\n",
       "  1.7280749082565308,\n",
       "  1.716084361076355,\n",
       "  1.7018829584121704,\n",
       "  1.6835389137268066,\n",
       "  1.659319519996643,\n",
       "  1.6281095743179321,\n",
       "  1.5946850776672363,\n",
       "  1.558242678642273,\n",
       "  1.5193612575531006,\n",
       "  1.4771555662155151,\n",
       "  1.4316082000732422,\n",
       "  1.3880406618118286,\n",
       "  1.344748616218567,\n",
       "  1.3028748035430908,\n",
       "  1.2637251615524292,\n",
       "  1.2267451286315918,\n",
       "  1.1930930614471436,\n",
       "  1.162638783454895,\n",
       "  1.1328778266906738,\n",
       "  1.1049479246139526,\n",
       "  1.0772371292114258,\n",
       "  1.053706169128418,\n",
       "  1.030932068824768,\n",
       "  1.0089181661605835,\n",
       "  0.9882838726043701,\n",
       "  0.9684181213378906,\n",
       "  0.9503219127655029,\n",
       "  0.9310569763183594,\n",
       "  0.9123836159706116,\n",
       "  0.8941236734390259,\n",
       "  0.877561628818512,\n",
       "  0.8622270226478577,\n",
       "  0.8467917442321777,\n",
       "  0.8324100971221924,\n",
       "  0.8188567757606506,\n",
       "  0.8059319257736206,\n",
       "  0.7945864796638489,\n",
       "  0.7833566665649414,\n",
       "  0.772205650806427,\n",
       "  0.762421190738678,\n",
       "  0.7527883648872375,\n",
       "  0.7432424426078796,\n",
       "  0.7342084646224976,\n",
       "  0.7244455814361572,\n",
       "  0.7156765460968018,\n",
       "  0.707413375377655,\n",
       "  0.6994736790657043,\n",
       "  0.6920494437217712,\n",
       "  0.6843597888946533,\n",
       "  0.6782915592193604,\n",
       "  0.6713255643844604,\n",
       "  0.6652849316596985,\n",
       "  0.6588566899299622,\n",
       "  0.6518971920013428,\n",
       "  0.6446375846862793,\n",
       "  0.6390618085861206,\n",
       "  0.6341992616653442,\n",
       "  0.6295210123062134,\n",
       "  0.6232421398162842,\n",
       "  0.6183423399925232,\n",
       "  0.6120578050613403,\n",
       "  0.6063912510871887,\n",
       "  0.6008039116859436,\n",
       "  0.5947375297546387,\n",
       "  0.5892336964607239,\n",
       "  0.5832870602607727,\n",
       "  0.5772951245307922,\n",
       "  0.5721174478530884,\n",
       "  0.5668274164199829,\n",
       "  0.5609092712402344,\n",
       "  0.554906964302063,\n",
       "  0.5500007271766663,\n",
       "  0.5450456142425537,\n",
       "  0.5403009653091431,\n",
       "  0.5362628698348999,\n",
       "  0.5317270159721375,\n",
       "  0.5271811485290527,\n",
       "  0.5228744745254517,\n",
       "  0.5185555815696716,\n",
       "  0.5149294137954712,\n",
       "  0.5105950236320496,\n",
       "  0.5069847106933594,\n",
       "  0.5034040212631226,\n",
       "  0.49950969219207764,\n",
       "  0.49607425928115845,\n",
       "  0.4922328293323517,\n",
       "  0.4885816276073456],\n",
       " 'accuracy': [0.16851851344108582,\n",
       "  0.2231481522321701,\n",
       "  0.1953703761100769,\n",
       "  0.1935185194015503,\n",
       "  0.23333333432674408,\n",
       "  0.27314814925193787,\n",
       "  0.29629629850387573,\n",
       "  0.3055555522441864,\n",
       "  0.31481480598449707,\n",
       "  0.31388887763023376,\n",
       "  0.3231481611728668,\n",
       "  0.3444444537162781,\n",
       "  0.3499999940395355,\n",
       "  0.3611111044883728,\n",
       "  0.375,\n",
       "  0.3712962865829468,\n",
       "  0.3907407522201538,\n",
       "  0.38055557012557983,\n",
       "  0.41203704476356506,\n",
       "  0.432407408952713,\n",
       "  0.44907405972480774,\n",
       "  0.4694444537162781,\n",
       "  0.49444442987442017,\n",
       "  0.5111111402511597,\n",
       "  0.5212963223457336,\n",
       "  0.5379629731178284,\n",
       "  0.5481481552124023,\n",
       "  0.5638889074325562,\n",
       "  0.5824074149131775,\n",
       "  0.585185170173645,\n",
       "  0.5888888835906982,\n",
       "  0.6000000238418579,\n",
       "  0.604629635810852,\n",
       "  0.6166666746139526,\n",
       "  0.6277777552604675,\n",
       "  0.6435185074806213,\n",
       "  0.6518518328666687,\n",
       "  0.6601851582527161,\n",
       "  0.6666666865348816,\n",
       "  0.6731481552124023,\n",
       "  0.675000011920929,\n",
       "  0.6842592358589172,\n",
       "  0.6907407641410828,\n",
       "  0.7009259462356567,\n",
       "  0.710185170173645,\n",
       "  0.7074074149131775,\n",
       "  0.7138888835906982,\n",
       "  0.7166666388511658,\n",
       "  0.7259259223937988,\n",
       "  0.7287036776542664,\n",
       "  0.7351852059364319,\n",
       "  0.7425925731658936,\n",
       "  0.7462962865829468,\n",
       "  0.7490741014480591,\n",
       "  0.75,\n",
       "  0.7518518567085266,\n",
       "  0.7537037134170532,\n",
       "  0.7555555701255798,\n",
       "  0.7546296119689941,\n",
       "  0.7546296119689941,\n",
       "  0.7564814686775208,\n",
       "  0.7564814686775208,\n",
       "  0.760185182094574,\n",
       "  0.760185182094574,\n",
       "  0.7583333253860474,\n",
       "  0.7638888955116272,\n",
       "  0.7629629373550415,\n",
       "  0.7638888955116272,\n",
       "  0.7666666507720947,\n",
       "  0.7638888955116272,\n",
       "  0.7657407522201538,\n",
       "  0.7675926089286804,\n",
       "  0.7731481194496155,\n",
       "  0.7768518328666687,\n",
       "  0.7824074029922485,\n",
       "  0.7842592597007751,\n",
       "  0.7870370149612427,\n",
       "  0.789814829826355,\n",
       "  0.7916666865348816,\n",
       "  0.7944444417953491,\n",
       "  0.7953703999519348,\n",
       "  0.7981481552124023,\n",
       "  0.8055555820465088,\n",
       "  0.8037037253379822,\n",
       "  0.8083333373069763,\n",
       "  0.8111110925674438,\n",
       "  0.8138889074325562,\n",
       "  0.8129629492759705,\n",
       "  0.8166666626930237,\n",
       "  0.8175926208496094,\n",
       "  0.8203703761100769,\n",
       "  0.8203703761100769,\n",
       "  0.8240740895271301,\n",
       "  0.824999988079071,\n",
       "  0.8240740895271301,\n",
       "  0.8259259462356567,\n",
       "  0.8231481313705444,\n",
       "  0.824999988079071,\n",
       "  0.8231481313705444,\n",
       "  0.824999988079071],\n",
       " 'val_loss': [1.7918542623519897,\n",
       "  1.784372091293335,\n",
       "  1.781775712966919,\n",
       "  1.7791236639022827,\n",
       "  1.7763036489486694,\n",
       "  1.7732746601104736,\n",
       "  1.7699967622756958,\n",
       "  1.7656787633895874,\n",
       "  1.7605326175689697,\n",
       "  1.7543317079544067,\n",
       "  1.747179627418518,\n",
       "  1.7381362915039062,\n",
       "  1.728482723236084,\n",
       "  1.7172220945358276,\n",
       "  1.7024317979812622,\n",
       "  1.6855114698410034,\n",
       "  1.664279818534851,\n",
       "  1.6354659795761108,\n",
       "  1.6039774417877197,\n",
       "  1.5702518224716187,\n",
       "  1.5372333526611328,\n",
       "  1.5025237798690796,\n",
       "  1.467378854751587,\n",
       "  1.4272862672805786,\n",
       "  1.3918009996414185,\n",
       "  1.3586140871047974,\n",
       "  1.3264408111572266,\n",
       "  1.2946562767028809,\n",
       "  1.2690470218658447,\n",
       "  1.241363525390625,\n",
       "  1.2151076793670654,\n",
       "  1.1928844451904297,\n",
       "  1.1717647314071655,\n",
       "  1.1465142965316772,\n",
       "  1.1261614561080933,\n",
       "  1.108513355255127,\n",
       "  1.088305950164795,\n",
       "  1.06857430934906,\n",
       "  1.041157603263855,\n",
       "  1.023908019065857,\n",
       "  1.0036267042160034,\n",
       "  0.9867087602615356,\n",
       "  0.9691871404647827,\n",
       "  0.953415036201477,\n",
       "  0.9420098662376404,\n",
       "  0.9304354190826416,\n",
       "  0.916420042514801,\n",
       "  0.9047017693519592,\n",
       "  0.892385721206665,\n",
       "  0.8812227249145508,\n",
       "  0.8704403042793274,\n",
       "  0.8602898120880127,\n",
       "  0.8508532643318176,\n",
       "  0.8417729139328003,\n",
       "  0.8338330388069153,\n",
       "  0.8252405524253845,\n",
       "  0.818041980266571,\n",
       "  0.810157835483551,\n",
       "  0.8046087622642517,\n",
       "  0.7988209128379822,\n",
       "  0.7940227389335632,\n",
       "  0.7883191704750061,\n",
       "  0.785190999507904,\n",
       "  0.7808115482330322,\n",
       "  0.7775249481201172,\n",
       "  0.7739370465278625,\n",
       "  0.7698853611946106,\n",
       "  0.7669126987457275,\n",
       "  0.7639243602752686,\n",
       "  0.7629340887069702,\n",
       "  0.7599896192550659,\n",
       "  0.756564199924469,\n",
       "  0.7493564486503601,\n",
       "  0.7461801171302795,\n",
       "  0.7377024292945862,\n",
       "  0.7349506616592407,\n",
       "  0.7286984920501709,\n",
       "  0.7252366542816162,\n",
       "  0.7182775139808655,\n",
       "  0.7164133787155151,\n",
       "  0.7098224759101868,\n",
       "  0.7072955965995789,\n",
       "  0.7006002068519592,\n",
       "  0.700147271156311,\n",
       "  0.6920228600502014,\n",
       "  0.6926120519638062,\n",
       "  0.6853117346763611,\n",
       "  0.6831199526786804,\n",
       "  0.6780199408531189,\n",
       "  0.674846887588501,\n",
       "  0.6704503297805786,\n",
       "  0.6698524355888367,\n",
       "  0.6654770374298096,\n",
       "  0.6623261570930481,\n",
       "  0.6590129137039185,\n",
       "  0.6566754579544067,\n",
       "  0.6544626355171204,\n",
       "  0.6510308384895325,\n",
       "  0.6480541229248047,\n",
       "  0.6458413600921631],\n",
       " 'val_accuracy': [0.23333333432674408,\n",
       "  0.2666666805744171,\n",
       "  0.22499999403953552,\n",
       "  0.2666666805744171,\n",
       "  0.2916666567325592,\n",
       "  0.3166666626930237,\n",
       "  0.30000001192092896,\n",
       "  0.3333333432674408,\n",
       "  0.3333333432674408,\n",
       "  0.3583333194255829,\n",
       "  0.3583333194255829,\n",
       "  0.36666667461395264,\n",
       "  0.3916666805744171,\n",
       "  0.4166666567325592,\n",
       "  0.4000000059604645,\n",
       "  0.4166666567325592,\n",
       "  0.42500001192092896,\n",
       "  0.4749999940395355,\n",
       "  0.4583333432674408,\n",
       "  0.4833333194255829,\n",
       "  0.4583333432674408,\n",
       "  0.4583333432674408,\n",
       "  0.46666666865348816,\n",
       "  0.46666666865348816,\n",
       "  0.4583333432674408,\n",
       "  0.46666666865348816,\n",
       "  0.46666666865348816,\n",
       "  0.4749999940395355,\n",
       "  0.4749999940395355,\n",
       "  0.49166667461395264,\n",
       "  0.5083333253860474,\n",
       "  0.5166666507720947,\n",
       "  0.5416666865348816,\n",
       "  0.5666666626930237,\n",
       "  0.6000000238418579,\n",
       "  0.6000000238418579,\n",
       "  0.6083333492279053,\n",
       "  0.6000000238418579,\n",
       "  0.625,\n",
       "  0.6083333492279053,\n",
       "  0.6333333253860474,\n",
       "  0.625,\n",
       "  0.6416666507720947,\n",
       "  0.6499999761581421,\n",
       "  0.675000011920929,\n",
       "  0.6666666865348816,\n",
       "  0.675000011920929,\n",
       "  0.675000011920929,\n",
       "  0.675000011920929,\n",
       "  0.6833333373069763,\n",
       "  0.675000011920929,\n",
       "  0.6666666865348816,\n",
       "  0.6833333373069763,\n",
       "  0.6833333373069763,\n",
       "  0.6833333373069763,\n",
       "  0.675000011920929,\n",
       "  0.6666666865348816,\n",
       "  0.6833333373069763,\n",
       "  0.675000011920929,\n",
       "  0.675000011920929,\n",
       "  0.699999988079071,\n",
       "  0.7083333134651184,\n",
       "  0.7083333134651184,\n",
       "  0.7083333134651184,\n",
       "  0.7083333134651184,\n",
       "  0.7083333134651184,\n",
       "  0.7083333134651184,\n",
       "  0.7083333134651184,\n",
       "  0.699999988079071,\n",
       "  0.7083333134651184,\n",
       "  0.699999988079071,\n",
       "  0.7083333134651184,\n",
       "  0.7083333134651184,\n",
       "  0.7083333134651184,\n",
       "  0.7083333134651184,\n",
       "  0.7166666388511658,\n",
       "  0.7166666388511658,\n",
       "  0.7083333134651184,\n",
       "  0.7083333134651184,\n",
       "  0.7083333134651184,\n",
       "  0.7083333134651184,\n",
       "  0.7083333134651184,\n",
       "  0.7083333134651184,\n",
       "  0.7083333134651184,\n",
       "  0.7166666388511658,\n",
       "  0.7083333134651184,\n",
       "  0.7166666388511658,\n",
       "  0.7166666388511658,\n",
       "  0.7333333492279053,\n",
       "  0.7250000238418579,\n",
       "  0.7416666746139526,\n",
       "  0.7333333492279053,\n",
       "  0.7333333492279053,\n",
       "  0.7416666746139526,\n",
       "  0.7416666746139526,\n",
       "  0.7416666746139526,\n",
       "  0.7333333492279053,\n",
       "  0.7333333492279053,\n",
       "  0.7333333492279053,\n",
       "  0.7333333492279053]}"
      ]
     },
     "execution_count": 25,
     "metadata": {},
     "output_type": "execute_result"
    }
   ],
   "source": [
    "history.history"
   ]
  },
  {
   "cell_type": "markdown",
   "metadata": {},
   "source": [
    "Now visualize the loss over time using `history.history`: "
   ]
  },
  {
   "cell_type": "code",
   "execution_count": 26,
   "metadata": {},
   "outputs": [
    {
     "data": {
      "text/plain": [
       "[Text(0, 0.5, 'Accuracy'), Text(0.5, 0, 'Epoch')]"
      ]
     },
     "execution_count": 26,
     "metadata": {},
     "output_type": "execute_result"
    },
    {
     "data": {
      "image/png": "[encoded data removed]",
      "text/plain": [
       "<Figure size 864x576 with 1 Axes>"
      ]
     },
     "metadata": {
      "needs_background": "light"
     },
     "output_type": "display_data"
    },
    {
     "data": {
      "image/png": "[encoded data removed]",
      "text/plain": [
       "<Figure size 864x576 with 1 Axes>"
      ]
     },
     "metadata": {
      "needs_background": "light"
     },
     "output_type": "display_data"
    }
   ],
   "source": [
    "# The history.history[\"loss\"] entry is a dictionary with as many values as epochs that the\n",
    "# model was trained on. \n",
    "df_loss_acc = pd.DataFrame(history.history)\n",
    "df_loss= df_loss_acc[['loss','val_loss']]\n",
    "df_loss.rename(columns={'loss':'train','val_loss':'validation'},inplace=True)\n",
    "df_acc= df_loss_acc[['accuracy','val_accuracy']]\n",
    "df_acc.rename(columns={'accuracy':'train','val_accuracy':'validation'},inplace=True)\n",
    "df_loss.plot(title='Model loss',figsize=(12,8)).set(xlabel='Epoch',ylabel='Loss')\n",
    "df_acc.plot(title='Model Accuracy',figsize=(12,8)).set(xlabel='Epoch',ylabel='Accuracy')"
   ]
  }
 ],
 "metadata": {
  "coursera": {
   "course_slug": "convolutional-neural-networks",
   "graded_item_id": "bwbJV",
   "launcher_item_id": "0TkXB"
  },
  "kernelspec": {
   "display_name": "Python 3 (ipykernel)",
   "language": "python",
   "name": "python3"
  },
  "language_info": {
   "codemirror_mode": {
    "name": "ipython",
    "version": 3
   },
   "file_extension": ".py",
   "mimetype": "text/x-python",
   "name": "python",
   "nbconvert_exporter": "python",
   "pygments_lexer": "ipython3",
   "version": "3.13.5"
  }
 },
 "nbformat": 4,
 "nbformat_minor": 4
}
